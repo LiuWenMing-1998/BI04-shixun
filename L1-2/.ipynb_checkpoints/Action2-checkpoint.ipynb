{
 "cells": [
  {
   "cell_type": "markdown",
   "metadata": {},
   "source": [
    "汽车投诉信息采集：\n",
    "数据源：http://www.12365auto.com/zlts/0-0-0-0-0-0_0-0-1.shtml.\n",
    "投诉编号，投诉品牌，投诉车系，投诉车型，问题简述，典型问题，投诉时间，投诉状态.\n",
    "可以采用Python爬虫，或者第三方可视化工具."
   ]
  },
  {
   "cell_type": "code",
   "execution_count": 1,
   "metadata": {},
   "outputs": [],
   "source": [
    "import requests\n",
    "from bs4 import BeautifulSoup\n",
    "import pandas as pd"
   ]
  },
  {
   "cell_type": "code",
   "execution_count": 2,
   "metadata": {},
   "outputs": [],
   "source": [
    "def get_content(url):\n",
    "    headers = {\"User-Agent\":\"Mozilla/5.0 (Windows NT 10.0; Win64; x64) AppleWebKit/537.36 (KHTML, like Gecko) Chrome/84.0.4147.135 Safari/537.36\"}\n",
    "    html = requests.get(url, headers=headers, timeout=10)\n",
    "    content = html.text\n",
    "    soup = BeautifulSoup(content, \"html.parser\", from_encoding=\"UTF-8\")\n",
    "    return soup"
   ]
  },
  {
   "cell_type": "code",
   "execution_count": 3,
   "metadata": {},
   "outputs": [],
   "source": [
    "def analyze(soup):\n",
    "    temp = soup.find('div',class_='tslb_b')\n",
    "    df = pd.DataFrame(columns = ['id', 'brand', 'car_model', 'type', 'desc', 'problem', 'datetime', 'status'])\n",
    "    tr_list = temp.find_all('tr')\n",
    "    for tr in tr_list:\n",
    "        s = {}\n",
    "        td_list = tr.find_all('td')\n",
    "        if len(td_list)>0:\n",
    "            s['id'], s['brand'], s['car_model'], s['type'], s['desc'], s['problem'], s['datetime'], s['status']=td_list[0].text ,td_list[1].text ,td_list[2].text, td_list[3].text, td_list[4].text, td_list[5].text, td_list[6].text, td_list[7].text\n",
    "            df = df.append(s, ignore_index=True)\n",
    "    return df"
   ]
  },
  {
   "cell_type": "code",
   "execution_count": 4,
   "metadata": {},
   "outputs": [
    {
     "name": "stderr",
     "output_type": "stream",
     "text": [
      "D:\\python_soft\\anaconda3\\lib\\site-packages\\bs4\\__init__.py:146: UserWarning: You provided Unicode markup but also provided a value for from_encoding. Your from_encoding will be ignored.\n",
      "  warnings.warn(\"You provided Unicode markup but also provided a value for from_encoding. Your from_encoding will be ignored.\")\n"
     ]
    }
   ],
   "source": [
    "page_num = 50\n",
    "# 爬取1-50的数据\n",
    "conmmon_url = \"http://www.12365auto.com/zlts/0-0-0-0-0-0_0-0-\"\n",
    "results = pd.DataFrame(columns = ['id', 'brand', 'car_model', 'type', 'desc', 'problem', 'datetime', 'status'])\n",
    "for i in range(page_num):\n",
    "    url = conmmon_url + str(i+1) + \".shtml\"\n",
    "    bs = get_content(url)\n",
    "    df = analyze(bs)\n",
    "    results = results.append(df)"
   ]
  },
  {
   "cell_type": "code",
   "execution_count": 5,
   "metadata": {},
   "outputs": [],
   "source": [
    "results.to_csv(\"car_complain.csv\", index=False, encoding=\"utf-8\")"
   ]
  }
 ],
 "metadata": {
  "kernelspec": {
   "display_name": "Python 3",
   "language": "python",
   "name": "python3"
  },
  "language_info": {
   "codemirror_mode": {
    "name": "ipython",
    "version": 3
   },
   "file_extension": ".py",
   "mimetype": "text/x-python",
   "name": "python",
   "nbconvert_exporter": "python",
   "pygments_lexer": "ipython3",
   "version": "3.6.5"
  }
 },
 "nbformat": 4,
 "nbformat_minor": 2
}
