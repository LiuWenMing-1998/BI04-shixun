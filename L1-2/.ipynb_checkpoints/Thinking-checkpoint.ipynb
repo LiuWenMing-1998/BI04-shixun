{
 "cells": [
  {
   "cell_type": "markdown",
   "metadata": {},
   "source": [
    "Thinking 1:当我们思考数据源的时候，都有哪些维度，如果你想要使用爬虫抓取数据，都有哪些工具"
   ]
  },
  {
   "cell_type": "markdown",
   "metadata": {},
   "source": [
    "开放数据库，一般指针对行业的数据库，比如政府、企业或者高校开放的大数据；爬虫，可以利用可视化工具，例如八爪鱼等，或者一些python代码工具，例如requests和beautifulsoup进行爬取对应的数据；传感器，一般收集的是物理信息，比如通过传感器收集一些图像视频等；日志采集，一般是对用户行为数据的收集，可以在网页的前端进行埋点或者是对后端进行脚本收集和统计，赖分析网页的用户浏览情况和使用瓶颈等。"
   ]
  },
  {
   "cell_type": "markdown",
   "metadata": {},
   "source": [
    "Thinking 2:企业的数据源来自多个维度，请思考什么是企业的数据中台，你是如何理解一方数据，二方数据，三方数据？"
   ]
  },
  {
   "cell_type": "markdown",
   "metadata": {},
   "source": [
    "企业的数据中台一般指的是企业通过数据技术，通过对该企业海量数据进行采集、计算、存储和加工，使数据相互联通并且对数据进行统一化标准。一方数据一般指的是企业内部的数据，包括该企业自身的用户行为数据、crm数据等；二方数据一般指的是与该企业有合作关系方的数据，是直接从该数据集的原始采集者获取数据，例如媒体交互行为数据等；三方数据指的是从第三方数据供应商获得的数据，例如数据平台或者供应商等，并不是直接从该数据集的原始采集者获取数据。"
   ]
  }
 ],
 "metadata": {
  "kernelspec": {
   "display_name": "Python 3",
   "language": "python",
   "name": "python3"
  },
  "language_info": {
   "codemirror_mode": {
    "name": "ipython",
    "version": 3
   },
   "file_extension": ".py",
   "mimetype": "text/x-python",
   "name": "python",
   "nbconvert_exporter": "python",
   "pygments_lexer": "ipython3",
   "version": "3.6.5"
  }
 },
 "nbformat": 4,
 "nbformat_minor": 2
}
