{
 "cells": [
  {
   "cell_type": "markdown",
   "metadata": {},
   "source": [
    "Thinking1\tMVC框架指的是什么\t\t\t能简要说出MVC框架的内容（20points）"
   ]
  },
  {
   "cell_type": "markdown",
   "metadata": {},
   "source": [
    "MVC是模型视图和控制器的缩写，是一种软件设计典范。Model用来表示应用程序模型；View用来表示显示数据；Controller用来表示处理数据。MVC将业务逻辑集中到一个部件上，在业务需求不断改变的同时，可以不断重新编写业务逻辑。MVC有助于管理复杂的应用程序，可以再不依赖逻辑的情况下专注于设计视图，同时MVC分层简化了分组开发，可以让不同业务人员专注地去开发视图、控制器、模型等业务逻辑。"
   ]
  },
  {
   "cell_type": "markdown",
   "metadata": {},
   "source": [
    "Thinking2\t基于Python的可视化技术都有哪些，你使用过哪些,分享自己使用过的工具（20points）"
   ]
  },
  {
   "cell_type": "markdown",
   "metadata": {},
   "source": [
    "Python中的可视化库和包：Matplotlib、Seaborn 和 Pandas,首先Seaborn和Pandas是建立在 Matplotlib之上的。当在用 Seaborn 或 Pandas 中的 df.plot() 时，用的其实是别人用 Matplotlib 写的代码。所以,这些图在美化方面是相似的,自定义图时用的语法也都非常相似。"
   ]
  },
  {
   "cell_type": "code",
   "execution_count": null,
   "metadata": {},
   "outputs": [],
   "source": []
  }
 ],
 "metadata": {
  "kernelspec": {
   "display_name": "Python 3",
   "language": "python",
   "name": "python3"
  },
  "language_info": {
   "codemirror_mode": {
    "name": "ipython",
    "version": 3
   },
   "file_extension": ".py",
   "mimetype": "text/x-python",
   "name": "python",
   "nbconvert_exporter": "python",
   "pygments_lexer": "ipython3",
   "version": "3.6.5"
  }
 },
 "nbformat": 4,
 "nbformat_minor": 2
}
