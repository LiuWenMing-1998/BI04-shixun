{
 "cells": [
  {
   "cell_type": "markdown",
   "metadata": {},
   "source": [
    "Thinking1\t如何使用用户标签来指导业务（如何提升业务）\t\t\t能用自己的语言总结标签对业务的作用（10points）\t"
   ]
  },
  {
   "cell_type": "markdown",
   "metadata": {},
   "source": [
    "要知道如何利用用户的标签行为给用户推荐物品、如何在用户给物品打标签时给用户推荐适合于该物品的标签。基于用户标签个性化，首先需要深入了解用户的标注行为，知道用户为什么要标注，用户怎么标注，只有深刻地了解用户的行为，我们才能基于这个行为给用户设计出令他们满意的个性化推荐。"
   ]
  },
  {
   "cell_type": "markdown",
   "metadata": {},
   "source": [
    "Thinking2\t如果给你一堆用户数据，没有打标签。你该如何处理（如何打标签）\t\t\t能列举对于数据打标签的方法（10points）\t"
   ]
  },
  {
   "cell_type": "markdown",
   "metadata": {},
   "source": [
    "在不知道如何定义数据的标签的情况下，首先使用聚类算法比如KMeans算法,首先利用手肘法得到K值，然后选取K个点作为类中心，将每个点都分配到最近的类中心，这样就形成了K个类，然后再重新计算每个类的中心点，一直重复这个步骤直到类不再发生改变或者达到最大的迭代次数；但是如果是知道想要的是什么样的数据群组的话，就可以使用分类算法来给数据打标签。"
   ]
  },
  {
   "cell_type": "markdown",
   "metadata": {},
   "source": [
    "Thinking3\t准确率和精确率有何不同（评估指标）\t\t\t对不同评估指标的作用理解（10points）\t"
   ]
  },
  {
   "cell_type": "markdown",
   "metadata": {},
   "source": [
    "准确率是最常见的评价指标，就是对于给定的测试数据集，分类器正确分类的样本数和总样数之比，即(TP+TN)/(TP+FP+FN+TN);而精确率表示为分类器正确分类的正例样本数和总正例样本数的比值，即TP/(TP+FP)。"
   ]
  },
  {
   "cell_type": "markdown",
   "metadata": {},
   "source": [
    "Thinking4\t如果你使用大众点评，想要给某个餐厅打标签。这时系统可以自动提示一些标签，你会如何设计（标签推荐）\t\t\t针对标签推荐的场景，能简要说明设计标签推荐的原理（10points）\t"
   ]
  },
  {
   "cell_type": "markdown",
   "metadata": {},
   "source": [
    "当用户u给餐厅i打标签时，可以给用户推荐和餐厅i相关的标签，方法如下，给用户u推荐整个大众点评最热门的餐厅、给用户u推荐餐厅i上最热门的标签、给用户u推荐他自己经常使用的标签、将方法2和3进行加权融合，生成最终的标签推荐结果。"
   ]
  },
  {
   "cell_type": "markdown",
   "metadata": {},
   "source": [
    "Thinking5\t我们今天使用了10种方式来解MNIST，这些方法有何不同？你还有其他方法来解决MNIST识别问题么（分类方法）\t\t\t\"1、能理解不同分类算法的差异（10points）\n",
    "2、能列举出其他的算法，解决 MNIST问题（10points）\""
   ]
  },
  {
   "cell_type": "markdown",
   "metadata": {},
   "source": [
    "可以使用TPOT来完成对mnist数据集的训练，它支持的分类器主要有贝叶斯、决策树、集成树、SVM、KNN、线性模型、xgboost，支持的回归器主要有决策树、集成树、线性模型、xgboost，可以利用它的fit函数来找到最优的模型，再使用score函数来评估测试集的准确率。不同分类算法的差异：LR是一种具有很好表现的分类算法，特征是线性或近似线性的并且问题是线性可分的就可以用它进行训练。SVM使用与LR不同的损失函数。决策树与逻辑回归相比主要的优势就是它们不期望线性的特征或者相互之间有线性作用的特征，随机森林则是采用多个决策树的投票机制来改善决策树。"
   ]
  }
 ],
 "metadata": {
  "kernelspec": {
   "display_name": "Python 3",
   "language": "python",
   "name": "python3"
  },
  "language_info": {
   "codemirror_mode": {
    "name": "ipython",
    "version": 3
   },
   "file_extension": ".py",
   "mimetype": "text/x-python",
   "name": "python",
   "nbconvert_exporter": "python",
   "pygments_lexer": "ipython3",
   "version": "3.6.5"
  }
 },
 "nbformat": 4,
 "nbformat_minor": 2
}
