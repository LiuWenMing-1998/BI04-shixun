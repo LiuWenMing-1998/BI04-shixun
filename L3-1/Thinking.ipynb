{
 "cells": [
  {
   "cell_type": "markdown",
   "metadata": {},
   "source": [
    "Thinking1\t什么是监督学习，无监督学习，半监督学习"
   ]
  },
  {
   "cell_type": "markdown",
   "metadata": {},
   "source": [
    "监督学习提供给算法的包含标签或者标记的训练数据，通常是一组给定的特征，来预测一个目标数值或者类别；无监督学习的训练数据都是未经标记的，系统会在没有标签的情况下自行进行学习；半监督学习是指可以处理部分标记的训练数据，通常是大量未标记数据和少量的标记数据。"
   ]
  },
  {
   "cell_type": "markdown",
   "metadata": {},
   "source": [
    "Thinking2\tK-means中的k值如何选取"
   ]
  },
  {
   "cell_type": "markdown",
   "metadata": {},
   "source": [
    "随机选取，然后计算中心，迭代至中心稳定为止"
   ]
  },
  {
   "cell_type": "markdown",
   "metadata": {},
   "source": [
    "Thinking3\t随机森林采用了bagging集成学习，bagging指的是什么\t"
   ]
  },
  {
   "cell_type": "markdown",
   "metadata": {},
   "source": [
    "将若干个弱分类器的分类结果进行投票选择，从而组成一个强分类器"
   ]
  },
  {
   "cell_type": "markdown",
   "metadata": {},
   "source": [
    "Thinking4\t主动学习和半监督学习的区别是什么"
   ]
  },
  {
   "cell_type": "markdown",
   "metadata": {},
   "source": [
    "表征学习是数据本身具有一些特点采用降维、编码之类的方法转化为便利使用的数据；半监督学习指在训练数据十分稀少的情况下，利用没有标签的数据，提高模型效果的方法"
   ]
  }
 ],
 "metadata": {
  "kernelspec": {
   "display_name": "Python 3",
   "language": "python",
   "name": "python3"
  },
  "language_info": {
   "codemirror_mode": {
    "name": "ipython",
    "version": 3
   },
   "file_extension": ".py",
   "mimetype": "text/x-python",
   "name": "python",
   "nbconvert_exporter": "python",
   "pygments_lexer": "ipython3",
   "version": "3.6.5"
  }
 },
 "nbformat": 4,
 "nbformat_minor": 2
}
