{
 "cells": [
  {
   "cell_type": "markdown",
   "metadata": {},
   "source": [
    "Thinking1\t奇异值分解SVD的原理是怎样的，都有哪些应用场景"
   ]
  },
  {
   "attachments": {},
   "cell_type": "markdown",
   "metadata": {},
   "source": [
    "奇异值分解SVD主要是为了应对矩阵不是方阵的情况，比如说有M个学生，每个学生有N科成绩，这样形成的一个M*N的矩阵就不可能是方阵，奇异值分解则是一个能适用于任意的矩阵的一种分解的方法。可以将M*N矩阵分解为PBQ，P为左奇异矩阵，M*M维，Q为左奇异矩阵，N*N维，B为对角线上的非零元素为特征值λ1,λ2, ，...,λk，特征值矩阵中则有K个最大特征值。我们可以通过K来对矩阵进行降维，也可以用于用户和商品之间的评分。"
   ]
  },
  {
   "cell_type": "markdown",
   "metadata": {},
   "source": [
    "Thinking2\tfunkSVD, BiasSVD，SVD++算法之间的区别是怎样的"
   ]
  },
  {
   "attachments": {},
   "cell_type": "markdown",
   "metadata": {},
   "source": [
    "由于传统的SVD分解要求矩阵是稠密的，而且一般矩阵的噪音较大，funkSVD, BiasSVD，SVD++算法则可以弥补传统SVD的缺陷。FunkSVD算法思想：我们需要设置k，来对矩阵近似求解，矩阵补全以后，再预测，实际上噪音大，矩阵分解之后的还原，只需要关注与原来矩阵中有值的位置进行对比即可，不需要对所有元素进行对比；BiasSVD算法原理：用户有自己的偏好，比如乐观的用户打分偏高，商品也有自己的偏好，比如质量好的商品，打分偏高将与个性化无关的部分，设置为偏好部分；SVD++算法原理：在BiasSVD算法基础上进行了改进，考虑用户的隐式反馈，隐式反馈指的是没有具体的评分，但可能有点击，浏览等行为。"
   ]
  },
  {
   "cell_type": "markdown",
   "metadata": {},
   "source": [
    "Thinking3\t矩阵分解算法在推荐系统中有哪些应用场景，存在哪些不足"
   ]
  },
  {
   "cell_type": "markdown",
   "metadata": {},
   "source": [
    "矩阵分解之所以在实际推荐系统中很少使用，一个主要的原因在于其很难增量在线计算，从而不能处理用户的实时行为反馈，只能基于历史行为来计算。比如，天猫双11活动，当天的用户行为模式必然与平时的行为模式很不一样，推荐系统如果不能处理当天用户的实时行为，及时捕获用户的新的偏好，将会使得推荐效果大打折扣。"
   ]
  },
  {
   "cell_type": "markdown",
   "metadata": {},
   "source": [
    "Thinking4\t假设一个小说网站，有N部小说，每部小说都有摘要描述。如何针对该网站制定基于内容的推荐系统，即用户看了某部小说后，推荐其他相关的小说。原理和步骤是怎样的\t\t"
   ]
  },
  {
   "cell_type": "markdown",
   "metadata": {},
   "source": [
    "1、通过每部小说的摘要描述来获取每部小说的标签向量\n",
    "2、是聚合计算用户的标签向量，根据该用户的浏览历史，通过看过的小说的摘要描述来计算该用户的标签偏好\n",
    "3、是对每个用户相似度计算推荐物品列表，使用余弦相似算法，计算出用户标签向量最相似的Top-N的小说。"
   ]
  },
  {
   "cell_type": "markdown",
   "metadata": {},
   "source": [
    "Thinking5\tWord2Vec的应用场景有哪些"
   ]
  },
  {
   "cell_type": "markdown",
   "metadata": {},
   "source": [
    "word2vec的作用就是将自然语言中的字词转为计算机可以理解的稠密向量。将人类的语言映射成稠密向量提供给计算机，以便给后续的CNN或者RNN网络提Input，说白了就是我们人类的语言不能直接当做输入给计算机，要翻译成计算机可以识别的语言才能得到最佳的预测效果。"
   ]
  }
 ],
 "metadata": {
  "kernelspec": {
   "display_name": "Python 3",
   "language": "python",
   "name": "python3"
  },
  "language_info": {
   "codemirror_mode": {
    "name": "ipython",
    "version": 3
   },
   "file_extension": ".py",
   "mimetype": "text/x-python",
   "name": "python",
   "nbconvert_exporter": "python",
   "pygments_lexer": "ipython3",
   "version": "3.6.5"
  }
 },
 "nbformat": 4,
 "nbformat_minor": 2
}
