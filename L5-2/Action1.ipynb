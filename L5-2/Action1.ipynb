{
 "cells": [
  {
   "cell_type": "markdown",
   "metadata": {},
   "source": [
    "Action1\t使用Wide&Deep模型对movielens进行评分预测"
   ]
  },
  {
   "cell_type": "code",
   "execution_count": 2,
   "metadata": {},
   "outputs": [],
   "source": [
    "import pandas as pd\n",
    "from sklearn.metrics import mean_squared_error\n",
    "from sklearn.model_selection import train_test_split\n",
    "from sklearn.preprocessing import LabelEncoder"
   ]
  },
  {
   "cell_type": "code",
   "execution_count": 4,
   "metadata": {},
   "outputs": [],
   "source": [
    "from deepctr.models import WDL"
   ]
  },
  {
   "cell_type": "code",
   "execution_count": 6,
   "metadata": {},
   "outputs": [],
   "source": [
    "from deepctr.feature_column import SparseFeat,get_feature_names"
   ]
  },
  {
   "cell_type": "code",
   "execution_count": 7,
   "metadata": {},
   "outputs": [],
   "source": [
    "data = pd.read_csv(\"movielens_sample.txt\")"
   ]
  },
  {
   "cell_type": "code",
   "execution_count": 10,
   "metadata": {},
   "outputs": [
    {
     "data": {
      "text/html": [
       "<div>\n",
       "<style scoped>\n",
       "    .dataframe tbody tr th:only-of-type {\n",
       "        vertical-align: middle;\n",
       "    }\n",
       "\n",
       "    .dataframe tbody tr th {\n",
       "        vertical-align: top;\n",
       "    }\n",
       "\n",
       "    .dataframe thead th {\n",
       "        text-align: right;\n",
       "    }\n",
       "</style>\n",
       "<table border=\"1\" class=\"dataframe\">\n",
       "  <thead>\n",
       "    <tr style=\"text-align: right;\">\n",
       "      <th></th>\n",
       "      <th>user_id</th>\n",
       "      <th>movie_id</th>\n",
       "      <th>rating</th>\n",
       "      <th>timestamp</th>\n",
       "      <th>title</th>\n",
       "      <th>genres</th>\n",
       "      <th>gender</th>\n",
       "      <th>age</th>\n",
       "      <th>occupation</th>\n",
       "      <th>zip</th>\n",
       "    </tr>\n",
       "  </thead>\n",
       "  <tbody>\n",
       "    <tr>\n",
       "      <th>0</th>\n",
       "      <td>107</td>\n",
       "      <td>12</td>\n",
       "      <td>4</td>\n",
       "      <td>968035345</td>\n",
       "      <td>Ed Wood (1994)</td>\n",
       "      <td>Comedy|Drama</td>\n",
       "      <td>0</td>\n",
       "      <td>2</td>\n",
       "      <td>4</td>\n",
       "      <td>35</td>\n",
       "    </tr>\n",
       "    <tr>\n",
       "      <th>1</th>\n",
       "      <td>123</td>\n",
       "      <td>169</td>\n",
       "      <td>3</td>\n",
       "      <td>966536874</td>\n",
       "      <td>Patriot Games (1992)</td>\n",
       "      <td>Action|Thriller</td>\n",
       "      <td>1</td>\n",
       "      <td>1</td>\n",
       "      <td>4</td>\n",
       "      <td>118</td>\n",
       "    </tr>\n",
       "    <tr>\n",
       "      <th>2</th>\n",
       "      <td>12</td>\n",
       "      <td>6</td>\n",
       "      <td>4</td>\n",
       "      <td>976203603</td>\n",
       "      <td>Bridges of Madison County, The (1995)</td>\n",
       "      <td>Drama|Romance</td>\n",
       "      <td>0</td>\n",
       "      <td>2</td>\n",
       "      <td>13</td>\n",
       "      <td>99</td>\n",
       "    </tr>\n",
       "    <tr>\n",
       "      <th>3</th>\n",
       "      <td>21</td>\n",
       "      <td>112</td>\n",
       "      <td>3</td>\n",
       "      <td>975430389</td>\n",
       "      <td>Indiana Jones and the Temple of Doom (1984)</td>\n",
       "      <td>Action|Adventure</td>\n",
       "      <td>1</td>\n",
       "      <td>1</td>\n",
       "      <td>18</td>\n",
       "      <td>55</td>\n",
       "    </tr>\n",
       "    <tr>\n",
       "      <th>4</th>\n",
       "      <td>187</td>\n",
       "      <td>45</td>\n",
       "      <td>5</td>\n",
       "      <td>957782527</td>\n",
       "      <td>Apartment, The (1960)</td>\n",
       "      <td>Comedy|Drama</td>\n",
       "      <td>1</td>\n",
       "      <td>5</td>\n",
       "      <td>19</td>\n",
       "      <td>41</td>\n",
       "    </tr>\n",
       "  </tbody>\n",
       "</table>\n",
       "</div>"
      ],
      "text/plain": [
       "   user_id  movie_id  rating  timestamp  \\\n",
       "0      107        12       4  968035345   \n",
       "1      123       169       3  966536874   \n",
       "2       12         6       4  976203603   \n",
       "3       21       112       3  975430389   \n",
       "4      187        45       5  957782527   \n",
       "\n",
       "                                         title            genres  gender  age  \\\n",
       "0                               Ed Wood (1994)      Comedy|Drama       0    2   \n",
       "1                         Patriot Games (1992)   Action|Thriller       1    1   \n",
       "2        Bridges of Madison County, The (1995)     Drama|Romance       0    2   \n",
       "3  Indiana Jones and the Temple of Doom (1984)  Action|Adventure       1    1   \n",
       "4                        Apartment, The (1960)      Comedy|Drama       1    5   \n",
       "\n",
       "   occupation  zip  \n",
       "0           4   35  \n",
       "1           4  118  \n",
       "2          13   99  \n",
       "3          18   55  \n",
       "4          19   41  "
      ]
     },
     "execution_count": 10,
     "metadata": {},
     "output_type": "execute_result"
    }
   ],
   "source": [
    "data.head()"
   ]
  },
  {
   "cell_type": "code",
   "execution_count": 8,
   "metadata": {},
   "outputs": [],
   "source": [
    "sparse_features = [\"movie_id\", \"user_id\", \"gender\", \"age\", \"occupation\", \"zip\"]\n",
    "target = ['rating']"
   ]
  },
  {
   "cell_type": "code",
   "execution_count": 9,
   "metadata": {},
   "outputs": [],
   "source": [
    "# 对特征标签进行编码\n",
    "for feature in sparse_features:\n",
    "    lbe = LabelEncoder()\n",
    "    data[feature] = lbe.fit_transform(data[feature])"
   ]
  },
  {
   "cell_type": "code",
   "execution_count": 12,
   "metadata": {},
   "outputs": [
    {
     "name": "stdout",
     "output_type": "stream",
     "text": [
      "WARNING:tensorflow:From /opt/conda/lib/python3.7/site-packages/tensorflow/python/keras/initializers.py:143: calling RandomNormal.__init__ (from tensorflow.python.ops.init_ops) with dtype is deprecated and will be removed in a future version.\n",
      "Instructions for updating:\n",
      "Call initializer instance with the dtype argument instead of passing it to the constructor\n"
     ]
    }
   ],
   "source": [
    "# 计算每个特征中的 不同特征值的个数\n",
    "fixlen_feature_columns = [SparseFeat(feature, data[feature].nunique()) for feature in sparse_features]"
   ]
  },
  {
   "cell_type": "code",
   "execution_count": 13,
   "metadata": {},
   "outputs": [
    {
     "data": {
      "text/plain": [
       "[SparseFeat(name='movie_id', vocabulary_size=187, embedding_dim=4, use_hash=False, dtype='int32', embeddings_initializer=<tensorflow.python.keras.initializers.RandomNormal object at 0x7f8c175b19d0>, embedding_name='movie_id', group_name='default_group', trainable=True),\n",
       " SparseFeat(name='user_id', vocabulary_size=193, embedding_dim=4, use_hash=False, dtype='int32', embeddings_initializer=<tensorflow.python.keras.initializers.RandomNormal object at 0x7f8c8419c4d0>, embedding_name='user_id', group_name='default_group', trainable=True),\n",
       " SparseFeat(name='gender', vocabulary_size=2, embedding_dim=4, use_hash=False, dtype='int32', embeddings_initializer=<tensorflow.python.keras.initializers.RandomNormal object at 0x7f8c841a8690>, embedding_name='gender', group_name='default_group', trainable=True),\n",
       " SparseFeat(name='age', vocabulary_size=7, embedding_dim=4, use_hash=False, dtype='int32', embeddings_initializer=<tensorflow.python.keras.initializers.RandomNormal object at 0x7f8c175b1fd0>, embedding_name='age', group_name='default_group', trainable=True),\n",
       " SparseFeat(name='occupation', vocabulary_size=20, embedding_dim=4, use_hash=False, dtype='int32', embeddings_initializer=<tensorflow.python.keras.initializers.RandomNormal object at 0x7f8c175b1e50>, embedding_name='occupation', group_name='default_group', trainable=True),\n",
       " SparseFeat(name='zip', vocabulary_size=188, embedding_dim=4, use_hash=False, dtype='int32', embeddings_initializer=<tensorflow.python.keras.initializers.RandomNormal object at 0x7f8c175b1f90>, embedding_name='zip', group_name='default_group', trainable=True)]"
      ]
     },
     "execution_count": 13,
     "metadata": {},
     "output_type": "execute_result"
    }
   ],
   "source": [
    "fixlen_feature_columns"
   ]
  },
  {
   "cell_type": "code",
   "execution_count": 15,
   "metadata": {},
   "outputs": [],
   "source": [
    "linear_feature_columns = fixlen_feature_columns\n",
    "dnn_feature_columns = fixlen_feature_columns"
   ]
  },
  {
   "cell_type": "code",
   "execution_count": 16,
   "metadata": {},
   "outputs": [],
   "source": [
    "feature_names = get_feature_names(linear_feature_columns + dnn_feature_columns)"
   ]
  },
  {
   "cell_type": "code",
   "execution_count": 17,
   "metadata": {},
   "outputs": [],
   "source": [
    "# 将数据集切分成训练集和测试集\n",
    "train, test = train_test_split(data, test_size=0.2)\n",
    "train_model_input = {name:train[name].values for name in feature_names}\n",
    "test_model_input = {name:test[name].values for name in feature_names}"
   ]
  },
  {
   "cell_type": "code",
   "execution_count": 25,
   "metadata": {},
   "outputs": [
    {
     "data": {
      "text/plain": [
       "{'movie_id': array([173,  68, 158,  93, 162,  25,   3,  66,  70, 144, 113,  15,  85,\n",
       "        157, 186, 123, 112, 130,   9, 180, 100,   2, 154,  11,  84,  97,\n",
       "        161,  21,  49,  41,  13, 108,  69,  94, 132, 136, 181,  83, 173,\n",
       "         99,  23,  17,  30,  27,  86,  72,  34,  35, 121,  32, 183,  55,\n",
       "        120,  96,  59,  50, 163, 123,  77,  28,  57, 153,  51, 149, 164,\n",
       "         90,  72, 184,  26,  80,  79,  52, 111, 128,  48,  62,  64,  60,\n",
       "         43,  87, 182,  40,  78, 140,  46, 169,  18, 125, 103,  20, 142,\n",
       "        147, 102,  27,  19, 160, 143,  63, 118, 106,  16, 148,  29,  10,\n",
       "          4,  73, 166, 156, 178,  89,  45, 150,   5, 174,  91, 109,   0,\n",
       "        133,  47, 159,  67,  39, 117, 149,   6, 176, 172, 171, 168, 137,\n",
       "         42,  82,  12,  44,  95,  38,  22, 119, 115, 126,  24,  74,  14,\n",
       "        138,  54, 169,   8, 101, 170,  92,  33,  36, 116, 114,   7,  34,\n",
       "         76, 105, 177,  71]),\n",
       " 'user_id': array([ 10, 161,  49,  40,  44,   9,  71, 183,  72,  64, 188, 181,  84,\n",
       "         38,  67,  41, 182, 146, 184, 145,  73,  14,  92,  13, 104, 173,\n",
       "         89,  96,  76,  34,  15,   1, 111, 177, 125,  66, 167,  52,   7,\n",
       "         56,  93, 165, 134, 189,  25,  86, 172, 133,  62, 126,  99, 152,\n",
       "         47, 138, 169, 173, 141, 147,  63, 139,  30, 127,  79, 109, 135,\n",
       "         60,  90,  61, 179, 171,  57,   6, 160,  49,  74, 155, 119,  98,\n",
       "        102,  44, 106,  78, 129, 113,  81, 110, 158,   4,  18,  20,   5,\n",
       "        117,  48,  39,  27, 132, 114, 151,  42,  80,  51,  82, 108, 170,\n",
       "        130, 166, 136,  24,  32, 131, 187,  29, 120,  68,  77, 191,  26,\n",
       "        116, 149, 164,  69,   3, 176, 142,  12,  46, 168, 122, 192, 175,\n",
       "         16,  97, 107,  22,  70,  19, 190,  87, 128,  94,  43, 101,  23,\n",
       "         55,  33, 123, 150, 143,  11, 162,  91,  58, 144, 148, 185, 157,\n",
       "         31, 121, 115,  17]),\n",
       " 'gender': array([1, 0, 1, 1, 1, 1, 1, 1, 1, 1, 1, 1, 0, 1, 1, 1, 0, 1, 1, 1, 0, 1,\n",
       "        0, 0, 0, 1, 1, 1, 1, 0, 1, 1, 1, 0, 1, 1, 1, 1, 1, 1, 0, 0, 1, 1,\n",
       "        1, 1, 1, 1, 1, 1, 1, 1, 1, 1, 1, 1, 1, 0, 1, 1, 1, 1, 1, 1, 0, 0,\n",
       "        1, 1, 1, 1, 0, 1, 1, 1, 1, 1, 1, 1, 0, 1, 1, 1, 1, 0, 1, 1, 1, 0,\n",
       "        1, 1, 1, 1, 1, 0, 0, 1, 1, 1, 0, 1, 1, 0, 0, 1, 1, 1, 0, 1, 1, 1,\n",
       "        1, 1, 0, 1, 0, 0, 1, 0, 1, 0, 1, 1, 1, 1, 0, 1, 1, 1, 1, 1, 1, 0,\n",
       "        0, 1, 1, 1, 1, 0, 1, 1, 0, 0, 0, 1, 1, 1, 1, 1, 1, 0, 1, 1, 1, 0,\n",
       "        1, 1, 0, 0, 1, 1]),\n",
       " 'age': array([3, 6, 2, 3, 3, 2, 6, 1, 3, 2, 2, 2, 0, 3, 2, 2, 2, 6, 2, 3, 6, 3,\n",
       "        5, 2, 2, 1, 2, 2, 5, 2, 5, 6, 3, 2, 2, 5, 1, 2, 2, 2, 3, 2, 2, 0,\n",
       "        2, 5, 6, 2, 3, 4, 1, 3, 2, 3, 1, 1, 5, 5, 2, 5, 3, 0, 5, 2, 2, 1,\n",
       "        3, 2, 6, 2, 5, 5, 5, 2, 1, 6, 2, 3, 0, 3, 2, 1, 5, 4, 4, 3, 3, 1,\n",
       "        2, 0, 2, 3, 2, 1, 5, 2, 3, 2, 2, 2, 5, 4, 1, 2, 2, 2, 2, 5, 1, 1,\n",
       "        5, 2, 4, 5, 1, 2, 1, 4, 2, 5, 4, 1, 4, 2, 2, 2, 3, 6, 2, 4, 1, 3,\n",
       "        2, 0, 4, 1, 1, 2, 3, 1, 2, 2, 2, 3, 1, 1, 6, 5, 2, 3, 1, 1, 2, 2,\n",
       "        2, 1, 4, 1, 1, 6]),\n",
       " 'occupation': array([ 7,  2,  0,  4, 14, 11, 12, 14, 16,  0,  7,  0,  9,  2,  7, 18, 10,\n",
       "         1,  2, 16, 12, 19, 19,  0, 17, 11, 13,  0, 15,  3, 16,  1, 19, 16,\n",
       "         4, 15, 13, 11,  2, 19,  0,  8, 16,  9,  0,  1,  0,  0,  5,  7,  0,\n",
       "         5,  7, 15,  9, 11, 11,  6, 18,  7,  3,  9, 11, 11, 14,  4, 10,  0,\n",
       "        15, 11,  6, 14, 13,  0,  4,  1,  0, 11,  1, 14, 19,  0,  6,  1,  6,\n",
       "         7, 16, 13,  0,  9, 11,  2, 11,  1,  0, 19,  0,  2, 13,  0,  7,  1,\n",
       "         4, 15,  7,  7,  0,  1,  4, 11, 19,  0,  0, 10,  4, 14, 13,  7,  4,\n",
       "        11, 13,  1,  1,  0, 13, 11,  1, 16,  6,  7,  4, 19,  4, 18, 19,  4,\n",
       "         5,  3,  6,  0,  7,  3, 15, 11,  4,  4,  7,  0, 15,  4, 16,  4,  4,\n",
       "         1,  0,  4,  8, 14,  4, 16]),\n",
       " 'zip': array([ 18, 160, 104, 179,  44,  96, 163, 153, 157,  19,  11, 106,  82,\n",
       "         36, 151, 156,   6,  76, 115,  39,   9,  23,  54,  68,  47, 134,\n",
       "         38,  22,  15, 124,  64,  86,  59,   2, 112, 143,  20, 123, 140,\n",
       "         37,  10, 150,  84,  46, 136,  69, 119, 127,  25,  56, 108, 172,\n",
       "        133,  75, 110, 134,  63,  81,  29,  71,  27,  12, 125, 120, 126,\n",
       "        118,  80,  78,  61, 161,  60,  95,  98, 104, 101,  71, 183, 171,\n",
       "        137,  44,   5,  94,  30,  33,   4, 116, 129,  83,  67,  72, 139,\n",
       "        107, 147, 158, 182, 138, 183, 176,  66,  77,  53, 105, 130,  58,\n",
       "        102, 103,  42,  45, 132, 113,  41,  21, 121, 144,  31,  62, 117,\n",
       "         57, 186, 167, 165,  24, 145,  73,  99,  48, 114,  49,  26,   3,\n",
       "        149, 178,  35,  89, 148, 180, 175,  87,  91,  88,  40,  92,  74,\n",
       "        170, 168, 118,  70,   1,  93, 174,  90,   0,  79, 141, 146, 109,\n",
       "        169,   7, 122,  65])}"
      ]
     },
     "execution_count": 25,
     "metadata": {},
     "output_type": "execute_result"
    }
   ],
   "source": [
    "train_model_input"
   ]
  },
  {
   "cell_type": "code",
   "execution_count": 18,
   "metadata": {},
   "outputs": [
    {
     "name": "stderr",
     "output_type": "stream",
     "text": [
      "/opt/conda/lib/python3.7/site-packages/tensorflow/python/framework/indexed_slices.py:434: UserWarning: Converting sparse IndexedSlices to a dense Tensor of unknown shape. This may consume a large amount of memory.\n",
      "  \"Converting sparse IndexedSlices to a dense Tensor of unknown shape. \"\n"
     ]
    },
    {
     "name": "stdout",
     "output_type": "stream",
     "text": [
      "1/1 [==============================] - 2s 2s/step - loss: 14.5233 - mse: 14.5233 - val_loss: 12.7351 - val_mse: 12.7351\n"
     ]
    }
   ],
   "source": [
    "# 使用WDL进行训练\n",
    "model = WDL(linear_feature_columns, dnn_feature_columns, task='regression')\n",
    "model.compile(\"adam\", \"mse\", metrics=['mse'], )\n",
    "history = model.fit(train_model_input, train[target].values, batch_size=256, epochs=1, verbose=True, validation_split=0.2, )"
   ]
  },
  {
   "cell_type": "code",
   "execution_count": 19,
   "metadata": {},
   "outputs": [
    {
     "name": "stdout",
     "output_type": "stream",
     "text": [
      "test RMSE 3.7192875661879117\n"
     ]
    }
   ],
   "source": [
    "# 使用WDL进行预测\n",
    "pred_ans = model.predict(test_model_input, batch_size=256)\n",
    "# 输出RMSE或MSE\n",
    "mse = round(mean_squared_error(test[target].values, pred_ans), 4)\n",
    "rmse = mse ** 0.5\n",
    "print(\"test RMSE\", rmse)"
   ]
  }
 ],
 "metadata": {
  "kernelspec": {
   "display_name": "Python 3",
   "language": "python",
   "name": "python3"
  },
  "language_info": {
   "codemirror_mode": {
    "name": "ipython",
    "version": 3
   },
   "file_extension": ".py",
   "mimetype": "text/x-python",
   "name": "python",
   "nbconvert_exporter": "python",
   "pygments_lexer": "ipython3",
   "version": "3.7.6"
  }
 },
 "nbformat": 4,
 "nbformat_minor": 4
}
